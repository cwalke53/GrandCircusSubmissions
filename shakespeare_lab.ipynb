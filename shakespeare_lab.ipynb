{
 "cells": [
  {
   "cell_type": "code",
   "execution_count": 44,
   "id": "60a2bd9b-81f6-4f78-8f64-5e73f782dca6",
   "metadata": {},
   "outputs": [],
   "source": [
    "import matplotlib.pyplot as plt\n",
    "from pyspark import SparkFiles\n",
    "from pyspark.sql import SparkSession\n",
    "import pyspark.sql.functions as F\n",
    "from pyspark.sql.functions import col, split, explode, regexp_replace, lower, count\n",
    "import pandas as pd"
   ]
  },
  {
   "cell_type": "code",
   "execution_count": 2,
   "id": "47e59998-3584-4222-9c8b-951166d9aed8",
   "metadata": {},
   "outputs": [],
   "source": [
    "spark = SparkSession.builder.appName(\"MySparkApp\").getOrCreate()"
   ]
  },
  {
   "cell_type": "code",
   "execution_count": 3,
   "id": "d55d9e64-8053-428d-ae24-7086e0ad3b8a",
   "metadata": {},
   "outputs": [],
   "source": [
    "spark.sparkContext.addFile(\"https://www.gutenberg.org/cache/epub/1513/pg1513.txt\")"
   ]
  },
  {
   "cell_type": "markdown",
   "id": "bf391cfb-20f5-43c9-866d-7f278b8c0439",
   "metadata": {},
   "source": [
    "### Separate the words: The DataFrame will start with one line of text per row. Split out the words into one word per row."
   ]
  },
  {
   "cell_type": "code",
   "execution_count": 4,
   "id": "a8ebc28c-a7ea-489d-adbb-4825ad05fb73",
   "metadata": {
    "scrolled": true
   },
   "outputs": [
    {
     "name": "stdout",
     "output_type": "stream",
     "text": [
      "+--------------------+\n",
      "|               value|\n",
      "+--------------------+\n",
      "|The Project Guten...|\n",
      "|                    |\n",
      "|This ebook is for...|\n",
      "|most other parts ...|\n",
      "|whatsoever. You m...|\n",
      "|of the Project Gu...|\n",
      "|at www.gutenberg....|\n",
      "|you will have to ...|\n",
      "|before using this...|\n",
      "|                    |\n",
      "|Title: Romeo and ...|\n",
      "|                    |\n",
      "|Author: William S...|\n",
      "|                    |\n",
      "|Release date: Nov...|\n",
      "|                M...|\n",
      "|                    |\n",
      "|   Language: English|\n",
      "|                    |\n",
      "|Credits: the PG S...|\n",
      "+--------------------+\n",
      "only showing top 20 rows\n",
      "\n"
     ]
    }
   ],
   "source": [
    "romeo_juliet_df = spark.read.text(SparkFiles.get(\"pg1513.txt\"))\n",
    "romeo_juliet_df.show()"
   ]
  },
  {
   "cell_type": "code",
   "execution_count": 5,
   "id": "c75d362e-fa2e-466e-bc49-3da7f09312a3",
   "metadata": {},
   "outputs": [],
   "source": [
    "words_df = romeo_juliet_df.select(explode(split(col(\"value\"), r\"\\s+\")).alias(\"word\"))"
   ]
  },
  {
   "cell_type": "code",
   "execution_count": 6,
   "id": "691c128c-c9b9-48b0-985b-fc280d79c45e",
   "metadata": {},
   "outputs": [
    {
     "name": "stdout",
     "output_type": "stream",
     "text": [
      "+---------+\n",
      "|word     |\n",
      "+---------+\n",
      "|The      |\n",
      "|Project  |\n",
      "|Gutenberg|\n",
      "|eBook    |\n",
      "|of       |\n",
      "|Romeo    |\n",
      "|and      |\n",
      "|Juliet   |\n",
      "|         |\n",
      "|         |\n",
      "|This     |\n",
      "|ebook    |\n",
      "|is       |\n",
      "|for      |\n",
      "|the      |\n",
      "|use      |\n",
      "|of       |\n",
      "|anyone   |\n",
      "|anywhere |\n",
      "|in       |\n",
      "+---------+\n",
      "only showing top 20 rows\n",
      "\n"
     ]
    }
   ],
   "source": [
    "words_df.show(20, truncate=False)"
   ]
  },
  {
   "cell_type": "markdown",
   "id": "9ef3a4ce-2268-4c45-bbf0-4746d7111b5b",
   "metadata": {},
   "source": [
    "### Punctuation: Remove punctuation from the grouped word counts (e.g. “way.” becomes “way”). This should happen prior to grouping words. (Hint: regular expressions can be helpful here.)\n"
   ]
  },
  {
   "cell_type": "code",
   "execution_count": 7,
   "id": "40d991ec-1d25-4cdd-915c-13c001a3938d",
   "metadata": {},
   "outputs": [],
   "source": [
    "#View punctuation marks\n",
    "chars_df = romeo_juliet_df.select(explode(split(col(\"value\"), \"\")).alias(\"char\"))\n"
   ]
  },
  {
   "cell_type": "code",
   "execution_count": 8,
   "id": "784d888a-70e0-4885-bddc-ccf93c4a0b29",
   "metadata": {},
   "outputs": [],
   "source": [
    "# Keep only non-alphanumerics and non-whitespace\n",
    "punctuation_df = chars_df.filter(~col(\"char\").rlike(r\"[a-zA-Z0-9\\s]\"))  \n",
    "unique_punctuations = punctuation_df.distinct().orderBy(\"char\")"
   ]
  },
  {
   "cell_type": "code",
   "execution_count": 9,
   "id": "bb79fe1a-5630-4ea5-ad45-c6f73c9f1458",
   "metadata": {},
   "outputs": [
    {
     "name": "stdout",
     "output_type": "stream",
     "text": [
      "+----+\n",
      "|char|\n",
      "+----+\n",
      "|    |\n",
      "|!   |\n",
      "|#   |\n",
      "|$   |\n",
      "|%   |\n",
      "|&   |\n",
      "|(   |\n",
      "|)   |\n",
      "|*   |\n",
      "|,   |\n",
      "|-   |\n",
      "|.   |\n",
      "|/   |\n",
      "|:   |\n",
      "|;   |\n",
      "|?   |\n",
      "|[   |\n",
      "|]   |\n",
      "|_   |\n",
      "|æ   |\n",
      "+----+\n",
      "only showing top 20 rows\n",
      "\n"
     ]
    }
   ],
   "source": [
    "unique_punctuations.show(truncate=False)"
   ]
  },
  {
   "cell_type": "code",
   "execution_count": 10,
   "id": "1ffcbd12-fd0c-4fd5-873e-7410fa632c94",
   "metadata": {},
   "outputs": [],
   "source": [
    "cleaned_df = romeo_juliet_df.select(\n",
    "    regexp_replace(col(\"value\"), r\"[^\\w\\s]\", \"\").alias(\"cleaned_line\")\n",
    ")"
   ]
  },
  {
   "cell_type": "code",
   "execution_count": 11,
   "id": "ef39f262-ef84-4327-8441-25edcbc11060",
   "metadata": {},
   "outputs": [
    {
     "name": "stdout",
     "output_type": "stream",
     "text": [
      "+--------------------+\n",
      "|        cleaned_line|\n",
      "+--------------------+\n",
      "|The Project Guten...|\n",
      "|                    |\n",
      "|This ebook is for...|\n",
      "|most other parts ...|\n",
      "|whatsoever You ma...|\n",
      "|of the Project Gu...|\n",
      "|at wwwgutenbergor...|\n",
      "|you will have to ...|\n",
      "|before using this...|\n",
      "|                    |\n",
      "|Title Romeo and J...|\n",
      "|                    |\n",
      "|Author William Sh...|\n",
      "|                    |\n",
      "|Release date Nove...|\n",
      "|                M...|\n",
      "|                    |\n",
      "|    Language English|\n",
      "|                    |\n",
      "|Credits the PG Sh...|\n",
      "+--------------------+\n",
      "only showing top 20 rows\n",
      "\n"
     ]
    }
   ],
   "source": [
    "cleaned_df.show()"
   ]
  },
  {
   "cell_type": "markdown",
   "id": "9c4b71e0-7daf-4e90-b6ea-96db769c272c",
   "metadata": {},
   "source": [
    "### Word Counts:\n",
    "Total word count: Output the total word count summarizing all plays.\n",
    "\n",
    "Grouped word count: Group and tally each word present amongst all plays combined. Sort with the most frequent words first.\n"
   ]
  },
  {
   "cell_type": "code",
   "execution_count": 21,
   "id": "115349a3-d506-4a08-a668-7a5340a0818f",
   "metadata": {},
   "outputs": [],
   "source": [
    "spark = SparkSession.builder.appName(\"ShakespeareWordCount\").getOrCreate()"
   ]
  },
  {
   "cell_type": "code",
   "execution_count": 18,
   "id": "6d1dec18-974b-435b-b5e6-03aba60ccc5a",
   "metadata": {},
   "outputs": [],
   "source": [
    "files = [\n",
    "    (\"Romeo and Juliet\", \"https://www.gutenberg.org/cache/epub/1513/pg1513.txt\"),\n",
    "    (\"The Tempest\", \"https://www.gutenberg.org/cache/epub/23042/pg23042.txt\"),\n",
    "    (\"Hamlet\", \"https://www.gutenberg.org/cache/epub/27761/pg27761.txt\"),\n",
    "    (\"Macbeth\", \"https://www.gutenberg.org/cache/epub/1533/pg1533.txt\"),\n",
    "    (\"Othello\", \"https://www.gutenberg.org/cache/epub/1531/pg1531.txt\")\n",
    "]"
   ]
  },
  {
   "cell_type": "code",
   "execution_count": 19,
   "id": "7cad8755-58ea-4850-a518-3536c11e2d93",
   "metadata": {},
   "outputs": [
    {
     "name": "stdout",
     "output_type": "stream",
     "text": [
      "Loaded 'Romeo and Juliet' into DataFrame.\n",
      "Loaded 'The Tempest' into DataFrame.\n",
      "Loaded 'Hamlet' into DataFrame.\n",
      "Loaded 'Macbeth' into DataFrame.\n",
      "Loaded 'Othello' into DataFrame.\n"
     ]
    }
   ],
   "source": [
    "dataframes = {}\n",
    "for title, url in files:\n",
    "    # Add file to Spark\n",
    "    spark.sparkContext.addFile(url)\n",
    "    #Extract file name\n",
    "    file_path = SparkFiles.get(url.split(\"/\")[-1])  \n",
    "    # Read file into DataFrame\n",
    "    df = spark.read.text(file_path)\n",
    "    dataframes[title] = df\n",
    "    print(f\"Loaded '{title}' into DataFrame.\")"
   ]
  },
  {
   "cell_type": "code",
   "execution_count": 20,
   "id": "7a99b496-b79e-40c7-b490-98933a2ad7ed",
   "metadata": {},
   "outputs": [
    {
     "name": "stdout",
     "output_type": "stream",
     "text": [
      "\n",
      "First 5 rows of 'Romeo and Juliet':\n",
      "+--------------------+\n",
      "|               value|\n",
      "+--------------------+\n",
      "|The Project Guten...|\n",
      "|                    |\n",
      "|This ebook is for...|\n",
      "|most other parts ...|\n",
      "|whatsoever. You m...|\n",
      "+--------------------+\n",
      "only showing top 5 rows\n",
      "\n",
      "\n",
      "First 5 rows of 'The Tempest':\n",
      "+--------------------+\n",
      "|               value|\n",
      "+--------------------+\n",
      "|The Project Guten...|\n",
      "|                    |\n",
      "|This ebook is for...|\n",
      "|most other parts ...|\n",
      "|whatsoever. You m...|\n",
      "+--------------------+\n",
      "only showing top 5 rows\n",
      "\n",
      "\n",
      "First 5 rows of 'Hamlet':\n",
      "+--------------------+\n",
      "|               value|\n",
      "+--------------------+\n",
      "|The Project Guten...|\n",
      "|                    |\n",
      "|This ebook is for...|\n",
      "|most other parts ...|\n",
      "|whatsoever. You m...|\n",
      "+--------------------+\n",
      "only showing top 5 rows\n",
      "\n",
      "\n",
      "First 5 rows of 'Macbeth':\n",
      "+--------------------+\n",
      "|               value|\n",
      "+--------------------+\n",
      "|The Project Guten...|\n",
      "|                    |\n",
      "|This ebook is for...|\n",
      "|most other parts ...|\n",
      "|whatsoever. You m...|\n",
      "+--------------------+\n",
      "only showing top 5 rows\n",
      "\n",
      "\n",
      "First 5 rows of 'Othello':\n",
      "+--------------------+\n",
      "|               value|\n",
      "+--------------------+\n",
      "|The Project Guten...|\n",
      "|                    |\n",
      "|This ebook is for...|\n",
      "|most other parts ...|\n",
      "|whatsoever. You m...|\n",
      "+--------------------+\n",
      "only showing top 5 rows\n",
      "\n"
     ]
    }
   ],
   "source": [
    "for title, df in dataframes.items():\n",
    "    print(f\"\\nFirst 5 rows of '{title}':\")\n",
    "    df.show(5, truncate=True)"
   ]
  },
  {
   "cell_type": "code",
   "execution_count": 33,
   "id": "d6a50264-0e94-457e-a2b6-52ba05805897",
   "metadata": {},
   "outputs": [],
   "source": [
    "#Load and clean text\n",
    "def load_and_clean_text(url):\n",
    "    spark.sparkContext.addFile(url)\n",
    "    file_path = SparkFiles.get(url.split(\"/\")[-1])  # Extract filename\n",
    "    df = spark.read.text(file_path)\n",
    "    \n",
    "    # Clean text: remove punctuation, lowercase, split into words, and filter non-words\n",
    "    words_df = df.select(\n",
    "        explode(\n",
    "            split(\n",
    "                regexp_replace(lower(col(\"value\")), r\"[^\\w\\s]\", \"\"),  # Remove punctuation\n",
    "                r\"\\s+\"  # Split on whitespace\n",
    "            )\n",
    "        ).alias(\"word\")\n",
    "    ).filter(col(\"word\").rlike(r\"^\\w+$\"))  # Keep only valid words\n",
    "    return words_df\n"
   ]
  },
  {
   "cell_type": "code",
   "execution_count": 29,
   "id": "d464a641-6ed5-4e47-ac85-6d54a4ad1e0d",
   "metadata": {},
   "outputs": [
    {
     "name": "stdout",
     "output_type": "stream",
     "text": [
      "The word count for 'Romeo and Juliet' is 28989\n",
      "The word count for 'The Tempest' is 26415\n",
      "The word count for 'Hamlet' is 34879\n",
      "The word count for 'Macbeth' is 21417\n",
      "The word count for 'Othello' is 30966\n"
     ]
    }
   ],
   "source": [
    "total_word_count = 0\n",
    "for title, url in files:\n",
    "    words_df = load_and_clean_text(title, url)\n",
    "    word_count = words_df.count()\n",
    "    total_word_count += word_count\n",
    "    print(f\"The word count for '{title}' is {word_count}\")"
   ]
  },
  {
   "cell_type": "code",
   "execution_count": 34,
   "id": "effe8341-2ae4-4fdd-88db-44d575462671",
   "metadata": {},
   "outputs": [
    {
     "name": "stdout",
     "output_type": "stream",
     "text": [
      "The fotal word count across all plays: 142666\n"
     ]
    }
   ],
   "source": [
    "print(f\"The fotal word count across all plays: {total_word_count}\")\n"
   ]
  },
  {
   "cell_type": "code",
   "execution_count": 35,
   "id": "712ad67c-ef6c-47e5-ade1-4a3c4abe0034",
   "metadata": {},
   "outputs": [],
   "source": [
    "#Combine all plays into a single DataFrame\n",
    "all_words_df = None\n",
    "for _, url in files:\n",
    "    words_df = load_and_clean_text(url)\n",
    "    if all_words_df is None:\n",
    "        all_words_df = words_df\n",
    "    else:\n",
    "        all_words_df = all_words_df.union(words_df)"
   ]
  },
  {
   "cell_type": "code",
   "execution_count": 36,
   "id": "52f08285-5c8d-4bb9-9836-15ddc890327a",
   "metadata": {},
   "outputs": [],
   "source": [
    "grouped_word_count_df = (\n",
    "    all_words_df.groupBy(\"word\")  # Group by word\n",
    "    .agg(count(\"word\").alias(\"count\"))  # Count occurrences\n",
    "    .orderBy(col(\"count\").desc())  # Sort by count in descending order\n",
    ")"
   ]
  },
  {
   "cell_type": "code",
   "execution_count": 37,
   "id": "45752221-598f-4bb4-88be-ef1fd23fa586",
   "metadata": {},
   "outputs": [
    {
     "name": "stdout",
     "output_type": "stream",
     "text": [
      "+----+-----+\n",
      "|word|count|\n",
      "+----+-----+\n",
      "|the |5053 |\n",
      "|and |3737 |\n",
      "|to  |3031 |\n",
      "|of  |2979 |\n",
      "|i   |2667 |\n",
      "|a   |2430 |\n",
      "|you |2000 |\n",
      "|in  |1880 |\n",
      "|my  |1661 |\n",
      "|that|1550 |\n",
      "|is  |1466 |\n",
      "|not |1307 |\n",
      "|it  |1265 |\n",
      "|with|1256 |\n",
      "|this|1225 |\n",
      "|for |1054 |\n",
      "|be  |1001 |\n",
      "|me  |1000 |\n",
      "|but |843  |\n",
      "|as  |832  |\n",
      "+----+-----+\n",
      "only showing top 20 rows\n",
      "\n"
     ]
    }
   ],
   "source": [
    "grouped_word_count_df.show(20, truncate=False)"
   ]
  },
  {
   "cell_type": "code",
   "execution_count": 38,
   "id": "bf0845a0-4fea-4352-a4a7-da6d8539663d",
   "metadata": {},
   "outputs": [],
   "source": [
    "pandas_df = grouped_word_count_df.toPandas()"
   ]
  },
  {
   "cell_type": "code",
   "execution_count": 46,
   "id": "96becee3-108d-403b-8a1d-2a858ff7a089",
   "metadata": {},
   "outputs": [],
   "source": [
    "pandas_df = pandas_df.head(50)"
   ]
  },
  {
   "cell_type": "code",
   "execution_count": 47,
   "id": "6b400dad-b1f8-4c91-8863-911b8b630feb",
   "metadata": {},
   "outputs": [
    {
     "data": {
      "image/png": "[encoded data removed]",
      "text/plain": [
       "<Figure size 640x480 with 1 Axes>"
      ]
     },
     "metadata": {},
     "output_type": "display_data"
    }
   ],
   "source": [
    "plt.hist(pandas_df, bins=20, cumulative= True )\n",
    "plt.show()"
   ]
  },
  {
   "cell_type": "code",
   "execution_count": null,
   "id": "6df44b35-f9d5-449e-9abf-f9bb908960b2",
   "metadata": {},
   "outputs": [],
   "source": []
  }
 ],
 "metadata": {
  "kernelspec": {
   "display_name": "Python 3 (ipykernel)",
   "language": "python",
   "name": "python3"
  },
  "language_info": {
   "codemirror_mode": {
    "name": "ipython",
    "version": 3
   },
   "file_extension": ".py",
   "mimetype": "text/x-python",
   "name": "python",
   "nbconvert_exporter": "python",
   "pygments_lexer": "ipython3",
   "version": "3.11.6"
  }
 },
 "nbformat": 4,
 "nbformat_minor": 5
}
