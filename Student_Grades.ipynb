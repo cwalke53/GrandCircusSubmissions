{
 "cells": [
  {
   "cell_type": "code",
   "execution_count": 4,
   "id": "2a68b0d5-09cd-4aff-90fc-5bd8ee6873e7",
   "metadata": {},
   "outputs": [],
   "source": [
    "import pandas as pd\n",
    "import numpy as np"
   ]
  },
  {
   "cell_type": "code",
   "execution_count": null,
   "id": "e65c4c08-ac75-4a41-af3f-356b3269cbfa",
   "metadata": {},
   "outputs": [],
   "source": []
  },
  {
   "cell_type": "code",
   "execution_count": 8,
   "id": "fd2f906a-1808-4a2a-9734-208b74e74f7a",
   "metadata": {},
   "outputs": [
    {
     "data": {
      "text/html": [
       "<div>\n",
       "<style scoped>\n",
       "    .dataframe tbody tr th:only-of-type {\n",
       "        vertical-align: middle;\n",
       "    }\n",
       "\n",
       "    .dataframe tbody tr th {\n",
       "        vertical-align: top;\n",
       "    }\n",
       "\n",
       "    .dataframe thead th {\n",
       "        text-align: right;\n",
       "    }\n",
       "</style>\n",
       "<table border=\"1\" class=\"dataframe\">\n",
       "  <thead>\n",
       "    <tr style=\"text-align: right;\">\n",
       "      <th></th>\n",
       "      <th>Name</th>\n",
       "      <th>Math</th>\n",
       "      <th>Science</th>\n",
       "      <th>Reading</th>\n",
       "      <th>History</th>\n",
       "    </tr>\n",
       "  </thead>\n",
       "  <tbody>\n",
       "    <tr>\n",
       "      <th>0</th>\n",
       "      <td>Adam</td>\n",
       "      <td>11.0</td>\n",
       "      <td>9.0</td>\n",
       "      <td>16.0</td>\n",
       "      <td>13.5</td>\n",
       "    </tr>\n",
       "    <tr>\n",
       "      <th>1</th>\n",
       "      <td>Anna</td>\n",
       "      <td>12.0</td>\n",
       "      <td>11.0</td>\n",
       "      <td>8.5</td>\n",
       "      <td>10.0</td>\n",
       "    </tr>\n",
       "    <tr>\n",
       "      <th>2</th>\n",
       "      <td>James</td>\n",
       "      <td>11.0</td>\n",
       "      <td>18.0</td>\n",
       "      <td>11.5</td>\n",
       "      <td>9.0</td>\n",
       "    </tr>\n",
       "    <tr>\n",
       "      <th>3</th>\n",
       "      <td>Corey</td>\n",
       "      <td>7.0</td>\n",
       "      <td>15.5</td>\n",
       "      <td>11.0</td>\n",
       "      <td>14.0</td>\n",
       "    </tr>\n",
       "    <tr>\n",
       "      <th>4</th>\n",
       "      <td>Alisha</td>\n",
       "      <td>9.5</td>\n",
       "      <td>12.0</td>\n",
       "      <td>10.5</td>\n",
       "      <td>14.0</td>\n",
       "    </tr>\n",
       "    <tr>\n",
       "      <th>5</th>\n",
       "      <td>Jodie</td>\n",
       "      <td>15.0</td>\n",
       "      <td>18.5</td>\n",
       "      <td>7.0</td>\n",
       "      <td>12.0</td>\n",
       "    </tr>\n",
       "    <tr>\n",
       "      <th>6</th>\n",
       "      <td>John</td>\n",
       "      <td>18.0</td>\n",
       "      <td>15.5</td>\n",
       "      <td>11.0</td>\n",
       "      <td>7.5</td>\n",
       "    </tr>\n",
       "  </tbody>\n",
       "</table>\n",
       "</div>"
      ],
      "text/plain": [
       "     Name  Math  Science  Reading  History\n",
       "0    Adam  11.0      9.0     16.0     13.5\n",
       "1    Anna  12.0     11.0      8.5     10.0\n",
       "2   James  11.0     18.0     11.5      9.0\n",
       "3   Corey   7.0     15.5     11.0     14.0\n",
       "4  Alisha   9.5     12.0     10.5     14.0\n",
       "5   Jodie  15.0     18.5      7.0     12.0\n",
       "6    John  18.0     15.5     11.0      7.5"
      ]
     },
     "execution_count": 8,
     "metadata": {},
     "output_type": "execute_result"
    }
   ],
   "source": [
    "student_grades_df = pd.read_csv('/Users/cdub/student_grades_2024.csv')\n",
    "student_grades_df"
   ]
  },
  {
   "cell_type": "markdown",
   "id": "302f04c8-6043-43c7-9f55-61b316406f99",
   "metadata": {},
   "source": [
    "Question 1.1: Calculate the mean for each individual subject.\n"
   ]
  },
  {
   "cell_type": "code",
   "execution_count": 55,
   "id": "34e6826c-d2c5-426c-b92d-ee6f8f764adf",
   "metadata": {},
   "outputs": [
    {
     "data": {
      "text/plain": [
       "Math       11.928571\n",
       "Science    14.214286\n",
       "Reading    10.785714\n",
       "History    11.428571\n",
       "dtype: float64"
      ]
     },
     "execution_count": 55,
     "metadata": {},
     "output_type": "execute_result"
    }
   ],
   "source": [
    "student_grades_df.loc[ : ,'Math':].mean()"
   ]
  },
  {
   "cell_type": "markdown",
   "id": "4e6b7e1f-0b65-49a6-9177-28ea860eb215",
   "metadata": {},
   "source": [
    "Question 1.2 Find the median grade in Math for all students.\n"
   ]
  },
  {
   "cell_type": "code",
   "execution_count": 30,
   "id": "a4262498-d66e-4eb0-895c-82821fdff424",
   "metadata": {},
   "outputs": [
    {
     "data": {
      "text/plain": [
       "11.0"
      ]
     },
     "execution_count": 30,
     "metadata": {},
     "output_type": "execute_result"
    }
   ],
   "source": [
    "student_grades_df.loc[:,'Math'].median()"
   ]
  },
  {
   "cell_type": "markdown",
   "id": "71ac1bf4-25ec-4abd-8c5b-ae0b6533d6d3",
   "metadata": {},
   "source": [
    "Question 1.3 Calculate the mode for History."
   ]
  },
  {
   "cell_type": "code",
   "execution_count": 32,
   "id": "74e4c6d5-f952-41ff-8b76-b7c448dbccda",
   "metadata": {},
   "outputs": [
    {
     "data": {
      "text/plain": [
       "0    14.0\n",
       "Name: History, dtype: float64"
      ]
     },
     "execution_count": 32,
     "metadata": {},
     "output_type": "execute_result"
    }
   ],
   "source": [
    "student_grades_df['History'].mode()"
   ]
  },
  {
   "cell_type": "markdown",
   "id": "6be9c90d-7482-4ac7-8457-4d8690338b41",
   "metadata": {},
   "source": [
    "Question 2:\n",
    "Given the following grades from Question 1, calculate the correlation between the different subjects. What two subjects have the strongest correlation?\n",
    "\n"
   ]
  },
  {
   "cell_type": "code",
   "execution_count": 95,
   "id": "ba9680f9-e8fb-42c7-9156-638bde314ab1",
   "metadata": {},
   "outputs": [
    {
     "name": "stdout",
     "output_type": "stream",
     "text": [
      "             Math   Science   Reading   History\n",
      "Math     1.000000  0.269494 -0.268562 -0.718358\n",
      "Science  0.269494  1.000000 -0.527606 -0.358688\n",
      "Reading -0.268562 -0.527606  1.000000  0.206794\n",
      "History -0.718358 -0.358688  0.206794  1.000000\n"
     ]
    }
   ],
   "source": [
    "correlation_grades = student_grades_df[['Math','Science', 'Reading', 'History']].corr()\n",
    "print(correlation_grades)\n",
    "#correlation = correlation_grades[0,1]"
   ]
  },
  {
   "cell_type": "markdown",
   "id": "5ccff805-1b7a-4ac1-86f6-96faee58a79a",
   "metadata": {},
   "source": []
  },
  {
   "cell_type": "markdown",
   "id": "86c2c69f-d221-4992-90d6-40f6c51dfff8",
   "metadata": {},
   "source": [
    "Question 3:\n",
    "Consider the following numbers representing the grades from the most recent exam in a math class:\n",
    "\n",
    "[24, 5, 15, 60, 54, 82, 99, 80, 70, 98, 93, 60, 33, 22, 65, 61, 51, 58, 83, 86, 42, 67, 60]\n",
    "\n",
    "Write a Python function named desc_stats() that takes a list of numbers and prints the following statistical calculations:\n",
    "Mean\n",
    "Median\n",
    "Mode\n",
    "Minimum\n",
    "Maximum\n",
    "Range\n",
    "Variance\n",
    "Standard deviation\n"
   ]
  },
  {
   "cell_type": "code",
   "execution_count": 105,
   "id": "1d1d6469-0e19-4ee1-bfef-fbbb9ea0654d",
   "metadata": {},
   "outputs": [],
   "source": [
    "grades = [24, 5, 15, 60, 54, 82, 99, 80, 70, 98, 93, 60, 33, 22, 65, 61, 51, 58, 83, 86, 42, 67, 60]"
   ]
  },
  {
   "cell_type": "code",
   "execution_count": 151,
   "id": "6e037ac7-6946-441d-af1a-8258c210a2ae",
   "metadata": {},
   "outputs": [],
   "source": [
    "def desc_stats(grades):\n",
    "    grades = pd.Series(grades)\n",
    "    return grades.mean(), grades.median(), grades.mode().to_list(), grades.min(), grades.max(), grades.max()-grades.min(), grades.var(), grades.std()"
   ]
  },
  {
   "cell_type": "code",
   "execution_count": 153,
   "id": "e2f594e6-546b-4c7c-955b-68088198ec15",
   "metadata": {},
   "outputs": [
    {
     "data": {
      "text/plain": [
       "(59.47826086956522,\n",
       " 60.0,\n",
       " [60],\n",
       " 5,\n",
       " 99,\n",
       " 94,\n",
       " 694.3517786561265,\n",
       " 26.350555566365703)"
      ]
     },
     "execution_count": 153,
     "metadata": {},
     "output_type": "execute_result"
    }
   ],
   "source": [
    "desc_stats(grades)"
   ]
  },
  {
   "cell_type": "code",
   "execution_count": null,
   "id": "28d55126-c3c4-4e85-b359-87268d3d7a05",
   "metadata": {},
   "outputs": [],
   "source": []
  },
  {
   "cell_type": "code",
   "execution_count": null,
   "id": "c19aeb20-38c0-47db-9a12-148002384202",
   "metadata": {},
   "outputs": [],
   "source": []
  }
 ],
 "metadata": {
  "kernelspec": {
   "display_name": "Python 3 (ipykernel)",
   "language": "python",
   "name": "python3"
  },
  "language_info": {
   "codemirror_mode": {
    "name": "ipython",
    "version": 3
   },
   "file_extension": ".py",
   "mimetype": "text/x-python",
   "name": "python",
   "nbconvert_exporter": "python",
   "pygments_lexer": "ipython3",
   "version": "3.12.4"
  }
 },
 "nbformat": 4,
 "nbformat_minor": 5
}
