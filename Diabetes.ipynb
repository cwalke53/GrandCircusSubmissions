{
 "cells": [
  {
   "cell_type": "code",
   "execution_count": 590,
   "id": "38418b22-bf2d-4c99-8cdf-b46f5882254a",
   "metadata": {},
   "outputs": [],
   "source": [
    "import pandas as pd\n",
    "import numpy as np"
   ]
  },
  {
   "cell_type": "markdown",
   "id": "fffbab54-aba9-4060-9f00-5722a6b2c956",
   "metadata": {},
   "source": [
    "## Part 1:  Read the data into Jupyter ##\n",
    "\n",
    "### Read the diabetes_uncleaned_data.csv into a pandas dataframe named pima_df. ###\n"
   ]
  },
  {
   "cell_type": "code",
   "execution_count": 649,
   "id": "0dac13c1-2f88-4550-80bd-a55d3e19c950",
   "metadata": {},
   "outputs": [],
   "source": [
    "diabetes_df = pd.read_csv('diabetes_uncleaned_data.csv')"
   ]
  },
  {
   "cell_type": "code",
   "execution_count": 651,
   "id": "bf02923c-0f46-4ab1-84a5-d53077a1de38",
   "metadata": {},
   "outputs": [
    {
     "data": {
      "text/plain": [
       "4"
      ]
     },
     "execution_count": 651,
     "metadata": {},
     "output_type": "execute_result"
    }
   ],
   "source": [
    "diabetes_df.duplicated().sum()"
   ]
  },
  {
   "cell_type": "markdown",
   "id": "347c36c8-3a5b-4652-a58e-4d59feff337f",
   "metadata": {},
   "source": [
    "## Part 2: Missing Data ##\n",
    "\n",
    "### Question 1:  In your Jupyter Notebook, find columns with missing data. ###\n",
    "missing value analysis mcar/mncar multivariate analysis"
   ]
  },
  {
   "cell_type": "code",
   "execution_count": 654,
   "id": "a6eb4945-cd71-491c-9f63-ee5188e13278",
   "metadata": {},
   "outputs": [
    {
     "data": {
      "text/plain": [
       "Pregnancies                 114\n",
       "Glucose                      16\n",
       "BloodPressure                22\n",
       "SkinThickness                 0\n",
       "Insulin                       0\n",
       "BMI                           1\n",
       "DiabetesPedigreeFunction      0\n",
       "Age                          22\n",
       "Outcome                       0\n",
       "dtype: int64"
      ]
     },
     "execution_count": 654,
     "metadata": {},
     "output_type": "execute_result"
    }
   ],
   "source": [
    "diabetes_df.isna().sum()"
   ]
  },
  {
   "cell_type": "code",
   "execution_count": 656,
   "id": "cf41869f-c179-49c2-a7e8-136abc6de0ac",
   "metadata": {},
   "outputs": [],
   "source": [
    "diabetes_df.dropna(inplace=True)"
   ]
  },
  {
   "cell_type": "markdown",
   "id": "56ef8935-4d7f-4393-ae20-619c7071059c",
   "metadata": {},
   "source": [
    "### Question 2:  Write code to remove rows with missing data and save the new dataframe as pima_missing_fixed_df. ###\n"
   ]
  },
  {
   "cell_type": "code",
   "execution_count": 659,
   "id": "826b8686-76a4-4119-91f2-d71131591886",
   "metadata": {},
   "outputs": [],
   "source": [
    "diabetes_df = diabetes_df.dropna().to_csv('pima_missing_fixed_df.csv')"
   ]
  },
  {
   "cell_type": "code",
   "execution_count": 661,
   "id": "b7e04baf-d534-4213-92ca-24b6d34c25ad",
   "metadata": {},
   "outputs": [],
   "source": [
    "diabetes_df = pd.read_csv('pima_missing_fixed_df.csv')\n"
   ]
  },
  {
   "cell_type": "markdown",
   "id": "4ef777dd-d163-4fae-923f-24e71419fb13",
   "metadata": {},
   "source": [
    "### Question 3:  Print out the number of rows in the dataframe. ###\n"
   ]
  },
  {
   "cell_type": "code",
   "execution_count": 664,
   "id": "272f5a4a-a2e7-4663-89af-9718ad31b145",
   "metadata": {},
   "outputs": [
    {
     "data": {
      "text/plain": [
       "840"
      ]
     },
     "execution_count": 664,
     "metadata": {},
     "output_type": "execute_result"
    }
   ],
   "source": [
    "diabetes_df.shape[0]"
   ]
  },
  {
   "cell_type": "markdown",
   "id": "487453ec-6c4c-47fc-9ef9-d9b3b062c0a6",
   "metadata": {},
   "source": [
    "### Question 4:  Discuss why missing data could be a problem.  What other methods could you use in this situation? ###\n"
   ]
  },
  {
   "cell_type": "markdown",
   "id": "6aab6be0-00d1-4b36-a788-2932f00804fb",
   "metadata": {},
   "source": [
    "Missing data could make the dataset less valuable depending on the amount of missing data. If there are a thousand lines of data and 800 are missing this row or column would not be useful in processing and analyzing. Depending on the missing data you can replace missing data with the mean of available data."
   ]
  },
  {
   "cell_type": "markdown",
   "id": "46d59fdd-a0b4-4c42-a2d6-979617b8a2e3",
   "metadata": {},
   "source": [
    "## Part 3:  Duplicated Data ##\n",
    "#### Question 1:  In your Jupyter Notebook, find the rows of duplicated data in the pima_missing_fixed_df and print them. ####\n"
   ]
  },
  {
   "cell_type": "code",
   "execution_count": 669,
   "id": "01c08ae6-5b87-4e1d-8ff9-8d8339fa78f7",
   "metadata": {},
   "outputs": [
    {
     "data": {
      "text/plain": [
       "0"
      ]
     },
     "execution_count": 669,
     "metadata": {},
     "output_type": "execute_result"
    }
   ],
   "source": [
    "diabetes_df.duplicated().sum()"
   ]
  },
  {
   "cell_type": "markdown",
   "id": "5aad028e-1693-4860-8e30-e8fd4a525821",
   "metadata": {},
   "source": [
    "#### Question 2:  Write code to remove the duplicate rows and save the new dataframe as pima_dedupped_df ####\n"
   ]
  },
  {
   "cell_type": "code",
   "execution_count": 672,
   "id": "55d5eea8-d4ec-42e1-9c7a-0e4cbd9dc5ad",
   "metadata": {},
   "outputs": [],
   "source": [
    "diabetes_df = pima_df.drop_duplicates().to_csv('pima_dedupped_df')"
   ]
  },
  {
   "cell_type": "code",
   "execution_count": 674,
   "id": "ec3a0b7c-adb4-4037-b552-16ce999a6cbf",
   "metadata": {},
   "outputs": [],
   "source": [
    "diabetes_df = pd.read_csv('pima_dedupped_df')"
   ]
  },
  {
   "cell_type": "markdown",
   "id": "3cbf8c52-1200-412d-9f02-e9d470f192e2",
   "metadata": {},
   "source": [
    "#### Question 3: Print out the number of rows in the dataframe ####"
   ]
  },
  {
   "cell_type": "code",
   "execution_count": 677,
   "id": "43a59920-1d9b-4a3b-bc7b-12601d028bd8",
   "metadata": {},
   "outputs": [
    {
     "data": {
      "text/plain": [
       "840"
      ]
     },
     "execution_count": 677,
     "metadata": {},
     "output_type": "execute_result"
    }
   ],
   "source": [
    "diabetes_df.shape[0]"
   ]
  },
  {
   "cell_type": "markdown",
   "id": "593efa9b-86f6-4b7f-a5ce-23cd9eb44540",
   "metadata": {},
   "source": [
    "#### Question 4: Discuss why duplicated data could be a problem.  What other methods could you use in this situation? ####\n"
   ]
  },
  {
   "cell_type": "markdown",
   "id": "2d98df67-da24-488f-b41e-841900db8e7a",
   "metadata": {},
   "source": [
    "* Duplicate data can provide an inaccurate assessment if left unhandled. Duplicate sets of data unnoticed can lead to an inaccurate analysis.\n",
    "Another method that could be used is the drop*"
   ]
  },
  {
   "cell_type": "markdown",
   "id": "477fb337-87ce-4294-b65f-34310f5d3413",
   "metadata": {},
   "source": [
    "## Part 4: Mis-typed Columns/Broken Data ##\n",
    "\t\n",
    "#### Question 1: In your Jupyter notebook, find the columns where most of the data seems to be one type of data, and there seems to be a data error. In the markdown, after exploring in code, add a markdown cell discussing which columns have the data error. ####\n"
   ]
  },
  {
   "cell_type": "code",
   "execution_count": 682,
   "id": "66a918f2-4b49-4ba5-a3f4-715a77764790",
   "metadata": {},
   "outputs": [
    {
     "data": {
      "text/html": [
       "<div>\n",
       "<style scoped>\n",
       "    .dataframe tbody tr th:only-of-type {\n",
       "        vertical-align: middle;\n",
       "    }\n",
       "\n",
       "    .dataframe tbody tr th {\n",
       "        vertical-align: top;\n",
       "    }\n",
       "\n",
       "    .dataframe thead th {\n",
       "        text-align: right;\n",
       "    }\n",
       "</style>\n",
       "<table border=\"1\" class=\"dataframe\">\n",
       "  <thead>\n",
       "    <tr style=\"text-align: right;\">\n",
       "      <th></th>\n",
       "      <th>Unnamed: 0.1</th>\n",
       "      <th>Unnamed: 0</th>\n",
       "      <th>Pregnancies</th>\n",
       "      <th>Glucose</th>\n",
       "      <th>BloodPressure</th>\n",
       "      <th>SkinThickness</th>\n",
       "      <th>Insulin</th>\n",
       "      <th>BMI</th>\n",
       "      <th>DiabetesPedigreeFunction</th>\n",
       "      <th>Age</th>\n",
       "      <th>Outcome</th>\n",
       "    </tr>\n",
       "  </thead>\n",
       "  <tbody>\n",
       "    <tr>\n",
       "      <th>0</th>\n",
       "      <td>0</td>\n",
       "      <td>0</td>\n",
       "      <td>3.0</td>\n",
       "      <td>167.0</td>\n",
       "      <td>39</td>\n",
       "      <td>28</td>\n",
       "      <td>545</td>\n",
       "      <td>53.0</td>\n",
       "      <td>2.447</td>\n",
       "      <td>125.0</td>\n",
       "      <td>FALSE</td>\n",
       "    </tr>\n",
       "    <tr>\n",
       "      <th>1</th>\n",
       "      <td>1</td>\n",
       "      <td>1</td>\n",
       "      <td>13.0</td>\n",
       "      <td>151.0</td>\n",
       "      <td>107</td>\n",
       "      <td>38</td>\n",
       "      <td>10000</td>\n",
       "      <td>9.2</td>\n",
       "      <td>0.507</td>\n",
       "      <td>148.0</td>\n",
       "      <td>FALSE</td>\n",
       "    </tr>\n",
       "    <tr>\n",
       "      <th>2</th>\n",
       "      <td>2</td>\n",
       "      <td>2</td>\n",
       "      <td>8.0</td>\n",
       "      <td>59.0</td>\n",
       "      <td>109</td>\n",
       "      <td>18</td>\n",
       "      <td>739</td>\n",
       "      <td>59.1</td>\n",
       "      <td>1.769</td>\n",
       "      <td>91.0</td>\n",
       "      <td>TRUE</td>\n",
       "    </tr>\n",
       "    <tr>\n",
       "      <th>3</th>\n",
       "      <td>3</td>\n",
       "      <td>4</td>\n",
       "      <td>10.0</td>\n",
       "      <td>165.0</td>\n",
       "      <td>48</td>\n",
       "      <td>37</td>\n",
       "      <td>737</td>\n",
       "      <td>39.4</td>\n",
       "      <td>0.729</td>\n",
       "      <td>73.0</td>\n",
       "      <td>FALSE</td>\n",
       "    </tr>\n",
       "    <tr>\n",
       "      <th>4</th>\n",
       "      <td>4</td>\n",
       "      <td>5</td>\n",
       "      <td>-100.0</td>\n",
       "      <td>142.0</td>\n",
       "      <td>88</td>\n",
       "      <td>39</td>\n",
       "      <td>82</td>\n",
       "      <td>42.7</td>\n",
       "      <td>1.369</td>\n",
       "      <td>148.0</td>\n",
       "      <td>TRUE</td>\n",
       "    </tr>\n",
       "  </tbody>\n",
       "</table>\n",
       "</div>"
      ],
      "text/plain": [
       "   Unnamed: 0.1  Unnamed: 0  Pregnancies  Glucose BloodPressure  \\\n",
       "0             0           0          3.0    167.0            39   \n",
       "1             1           1         13.0    151.0           107   \n",
       "2             2           2          8.0     59.0           109   \n",
       "3             3           4         10.0    165.0            48   \n",
       "4             4           5       -100.0    142.0            88   \n",
       "\n",
       "   SkinThickness  Insulin   BMI  DiabetesPedigreeFunction    Age Outcome  \n",
       "0             28      545  53.0                     2.447  125.0   FALSE  \n",
       "1             38    10000   9.2                     0.507  148.0   FALSE  \n",
       "2             18      739  59.1                     1.769   91.0    TRUE  \n",
       "3             37      737  39.4                     0.729   73.0   FALSE  \n",
       "4             39       82  42.7                     1.369  148.0    TRUE  "
      ]
     },
     "execution_count": 682,
     "metadata": {},
     "output_type": "execute_result"
    }
   ],
   "source": [
    "diabetes_df.head()"
   ]
  },
  {
   "cell_type": "code",
   "execution_count": 684,
   "id": "7fdc0747-3a34-49ca-aaee-516d9002b4df",
   "metadata": {},
   "outputs": [
    {
     "name": "stdout",
     "output_type": "stream",
     "text": [
      "<class 'pandas.core.frame.DataFrame'>\n",
      "RangeIndex: 840 entries, 0 to 839\n",
      "Data columns (total 11 columns):\n",
      " #   Column                    Non-Null Count  Dtype  \n",
      "---  ------                    --------------  -----  \n",
      " 0   Unnamed: 0.1              840 non-null    int64  \n",
      " 1   Unnamed: 0                840 non-null    int64  \n",
      " 2   Pregnancies               840 non-null    float64\n",
      " 3   Glucose                   840 non-null    float64\n",
      " 4   BloodPressure             840 non-null    object \n",
      " 5   SkinThickness             840 non-null    int64  \n",
      " 6   Insulin                   840 non-null    int64  \n",
      " 7   BMI                       840 non-null    object \n",
      " 8   DiabetesPedigreeFunction  840 non-null    float64\n",
      " 9   Age                       840 non-null    float64\n",
      " 10  Outcome                   840 non-null    object \n",
      "dtypes: float64(4), int64(4), object(3)\n",
      "memory usage: 72.3+ KB\n"
     ]
    }
   ],
   "source": [
    "diabetes_df.info()"
   ]
  },
  {
   "cell_type": "markdown",
   "id": "b8d890dd-6ca8-4370-a06a-10cecd5e1895",
   "metadata": {},
   "source": [
    "Based on the original data frame the blood pressure has 2 error values within its data causing the data type to show as a object instead of int64. Also BMI is showing as a object when it should be showing as a float."
   ]
  },
  {
   "cell_type": "markdown",
   "id": "556b2714-8ffd-4ee2-9abf-76b74a1f6afb",
   "metadata": {},
   "source": [
    "#### Question 2: Remove the rows with data errors in your jupyter notebook. ####\n",
    "\t\n"
   ]
  },
  {
   "cell_type": "code",
   "execution_count": 688,
   "id": "93c29da6-d963-4e8f-a6c6-4ac8aca63999",
   "metadata": {},
   "outputs": [],
   "source": [
    "diabetes_df = diabetes_df.loc[diabetes_df['BloodPressure'] != 'Error', :]"
   ]
  },
  {
   "cell_type": "code",
   "execution_count": 690,
   "id": "5669a587-269e-414b-b94b-00a57fb9d7bb",
   "metadata": {},
   "outputs": [],
   "source": [
    "diabetes_df = diabetes_df.loc[diabetes_df['BMI'] != 'Error', :]"
   ]
  },
  {
   "cell_type": "code",
   "execution_count": 692,
   "id": "f0eee5db-6317-405b-b40c-3d9676285f5b",
   "metadata": {},
   "outputs": [
    {
     "data": {
      "text/plain": [
       "BloodPressure\n",
       "26       16\n",
       "96       15\n",
       "27       15\n",
       "82       15\n",
       "81       13\n",
       "         ..\n",
       "104       4\n",
       "107       4\n",
       "13        3\n",
       "10000     2\n",
       "19        1\n",
       "Name: count, Length: 112, dtype: int64"
      ]
     },
     "execution_count": 692,
     "metadata": {},
     "output_type": "execute_result"
    }
   ],
   "source": [
    "diabetes_df['BloodPressure'].value_counts()"
   ]
  },
  {
   "cell_type": "code",
   "execution_count": null,
   "id": "c96355a8-ab26-45ea-8f08-1aadb22cc0b3",
   "metadata": {},
   "outputs": [],
   "source": []
  },
  {
   "cell_type": "markdown",
   "id": "ea511bfd-12d5-46dc-baf1-8d43c146bf2d",
   "metadata": {},
   "source": [
    "#### Question 3: After the data is fixed in your columns change the columns to the correct type and save this as the pima_fixed_columns_df. ####"
   ]
  },
  {
   "cell_type": "code",
   "execution_count": 696,
   "id": "aa94026f-5145-4478-94b2-2d293c03b7c3",
   "metadata": {},
   "outputs": [],
   "source": [
    "diabetes_df['BloodPressure'] = diabetes_df['BloodPressure'].astype('int64') "
   ]
  },
  {
   "cell_type": "code",
   "execution_count": 698,
   "id": "d1864f4f-63e2-4222-9a3c-ad23ba40e00e",
   "metadata": {},
   "outputs": [],
   "source": [
    "diabetes_df['BMI'] = diabetes_df['BMI'].astype('float64')"
   ]
  },
  {
   "cell_type": "code",
   "execution_count": 702,
   "id": "b7ecd21e-9b2b-4718-95d7-f468616e118f",
   "metadata": {},
   "outputs": [
    {
     "name": "stdout",
     "output_type": "stream",
     "text": [
      "<class 'pandas.core.frame.DataFrame'>\n",
      "Index: 837 entries, 0 to 839\n",
      "Data columns (total 11 columns):\n",
      " #   Column                    Non-Null Count  Dtype  \n",
      "---  ------                    --------------  -----  \n",
      " 0   Unnamed: 0.1              837 non-null    int64  \n",
      " 1   Unnamed: 0                837 non-null    int64  \n",
      " 2   Pregnancies               837 non-null    float64\n",
      " 3   Glucose                   837 non-null    float64\n",
      " 4   BloodPressure             837 non-null    int64  \n",
      " 5   SkinThickness             837 non-null    int64  \n",
      " 6   Insulin                   837 non-null    int64  \n",
      " 7   BMI                       837 non-null    float64\n",
      " 8   DiabetesPedigreeFunction  837 non-null    float64\n",
      " 9   Age                       837 non-null    float64\n",
      " 10  Outcome                   837 non-null    object \n",
      "dtypes: float64(5), int64(5), object(1)\n",
      "memory usage: 78.5+ KB\n"
     ]
    }
   ],
   "source": [
    "diabetes_df.info()"
   ]
  },
  {
   "cell_type": "code",
   "execution_count": 704,
   "id": "960f1917-3555-4a81-82b2-4c212e6768e9",
   "metadata": {},
   "outputs": [],
   "source": [
    "diabetes_df.to_csv('pima_fixed_columns_df.csv')"
   ]
  },
  {
   "cell_type": "code",
   "execution_count": 706,
   "id": "e6d22908-8eb6-47a0-86bb-d6cfdbea74ac",
   "metadata": {},
   "outputs": [],
   "source": [
    "diabetes_df = pd.read_csv('pima_fixed_columns_df.csv')"
   ]
  },
  {
   "cell_type": "code",
   "execution_count": 708,
   "id": "27ffd637-36db-415d-a944-a0f9938f2c61",
   "metadata": {},
   "outputs": [
    {
     "name": "stdout",
     "output_type": "stream",
     "text": [
      "<class 'pandas.core.frame.DataFrame'>\n",
      "RangeIndex: 837 entries, 0 to 836\n",
      "Data columns (total 12 columns):\n",
      " #   Column                    Non-Null Count  Dtype  \n",
      "---  ------                    --------------  -----  \n",
      " 0   Unnamed: 0.2              837 non-null    int64  \n",
      " 1   Unnamed: 0.1              837 non-null    int64  \n",
      " 2   Unnamed: 0                837 non-null    int64  \n",
      " 3   Pregnancies               837 non-null    float64\n",
      " 4   Glucose                   837 non-null    float64\n",
      " 5   BloodPressure             837 non-null    int64  \n",
      " 6   SkinThickness             837 non-null    int64  \n",
      " 7   Insulin                   837 non-null    int64  \n",
      " 8   BMI                       837 non-null    float64\n",
      " 9   DiabetesPedigreeFunction  837 non-null    float64\n",
      " 10  Age                       837 non-null    float64\n",
      " 11  Outcome                   837 non-null    object \n",
      "dtypes: float64(5), int64(6), object(1)\n",
      "memory usage: 78.6+ KB\n"
     ]
    }
   ],
   "source": [
    "diabetes_df.info()"
   ]
  },
  {
   "cell_type": "markdown",
   "id": "325f50d4-451c-47af-a1d1-50ea74b18ff3",
   "metadata": {},
   "source": [
    "### Question 4: Run pima_fixed_columns_df.info() to confirm the columns have changed. ###\n",
    "\n"
   ]
  },
  {
   "cell_type": "code",
   "execution_count": 711,
   "id": "67394a6c-0a7a-4fb8-9679-c6a6feeced34",
   "metadata": {},
   "outputs": [
    {
     "name": "stdout",
     "output_type": "stream",
     "text": [
      "<class 'pandas.core.frame.DataFrame'>\n",
      "RangeIndex: 837 entries, 0 to 836\n",
      "Data columns (total 12 columns):\n",
      " #   Column                    Non-Null Count  Dtype  \n",
      "---  ------                    --------------  -----  \n",
      " 0   Unnamed: 0.2              837 non-null    int64  \n",
      " 1   Unnamed: 0.1              837 non-null    int64  \n",
      " 2   Unnamed: 0                837 non-null    int64  \n",
      " 3   Pregnancies               837 non-null    float64\n",
      " 4   Glucose                   837 non-null    float64\n",
      " 5   BloodPressure             837 non-null    int64  \n",
      " 6   SkinThickness             837 non-null    int64  \n",
      " 7   Insulin                   837 non-null    int64  \n",
      " 8   BMI                       837 non-null    float64\n",
      " 9   DiabetesPedigreeFunction  837 non-null    float64\n",
      " 10  Age                       837 non-null    float64\n",
      " 11  Outcome                   837 non-null    object \n",
      "dtypes: float64(5), int64(6), object(1)\n",
      "memory usage: 78.6+ KB\n"
     ]
    }
   ],
   "source": [
    "diabetes_df.info()"
   ]
  },
  {
   "cell_type": "markdown",
   "id": "61c48e8f-e112-4793-8eb2-4ae7c960e151",
   "metadata": {},
   "source": [
    "## Part 5: Outlier Detection and Removal ##\n",
    "\n",
    "#### Question 1: Print out the Outliers in each column in the pima_fixed_columns_df dataframe, use the IQR method of outlier detection. ####\n",
    "\n"
   ]
  },
  {
   "cell_type": "code",
   "execution_count": 726,
   "id": "71a6fcd8-3e73-4832-a801-561c516a2503",
   "metadata": {},
   "outputs": [
    {
     "name": "stdout",
     "output_type": "stream",
     "text": [
      "0\n",
      "0\n",
      "0\n",
      "0\n",
      "0\n",
      "0\n",
      "0\n",
      "0\n",
      "0\n",
      "0\n",
      "0\n"
     ]
    }
   ],
   "source": [
    "def is_outlier(column):\n",
    "        Q1 = column.quantile(0.25)\n",
    "        Q3 = column.quantile(0.75)\n",
    "        IQR = Q3 - Q1\n",
    "        lower_bound = Q1 - 1.5 * IQR\n",
    "        upper_bound = Q3 + 1.5 * IQR\n",
    "        return ~column.between(lower_bound, upper_bound)\n",
    "\n",
    "for column in diabetes_df.select_dtypes(include='number').columns:\n",
    "    print(is_outlier(diabetes_df[column]).sum())\n",
    "    "
   ]
  },
  {
   "cell_type": "markdown",
   "id": "841f9168-effd-42bc-8cb7-71f360568f82",
   "metadata": {},
   "source": [
    "#### Question 2: Use loc to remove outliers in each of the columns that have outliers, save this as pima_outlier_removed_df ####"
   ]
  },
  {
   "cell_type": "code",
   "execution_count": 729,
   "id": "f1abdee1-693e-4d4a-931c-52fe2e91fe20",
   "metadata": {},
   "outputs": [],
   "source": [
    "diabetes_df = diabetes_df[is_outlier(diabetes_df['BloodPressure']) != True]\n",
    "diabetes_df = diabetes_df[is_outlier(diabetes_df['Pregnancies']) != True]\n",
    "diabetes_df = diabetes_df[is_outlier(diabetes_df['Insulin']) != True]\n",
    "\n"
   ]
  },
  {
   "cell_type": "code",
   "execution_count": 731,
   "id": "f9d48a91-151d-48c1-8d06-f816fe413431",
   "metadata": {},
   "outputs": [
    {
     "name": "stdout",
     "output_type": "stream",
     "text": [
      "0\n",
      "0\n",
      "0\n",
      "0\n",
      "0\n",
      "0\n",
      "0\n",
      "0\n",
      "0\n",
      "0\n",
      "0\n"
     ]
    }
   ],
   "source": [
    "for column in diabetes_df.select_dtypes(include='number').columns:\n",
    "    print(is_outlier(diabetes_df[column]).sum())"
   ]
  },
  {
   "cell_type": "markdown",
   "id": "9b0b3089-b9b0-40f6-8cf0-54785f26111c",
   "metadata": {},
   "source": [
    "#### Question 3:  Print out the row count in the pima_outlier_removed_df and confirm this number is correct. ####\n"
   ]
  },
  {
   "cell_type": "code",
   "execution_count": 737,
   "id": "f821aaf7-7108-45b9-9bab-272e68e1c161",
   "metadata": {},
   "outputs": [],
   "source": [
    "diabetes_df.to_csv('pima_outlier_removed_df.csv')\n"
   ]
  },
  {
   "cell_type": "code",
   "execution_count": 739,
   "id": "a92b16d5-776c-4f95-bf10-666ba30abd9e",
   "metadata": {},
   "outputs": [
    {
     "name": "stdout",
     "output_type": "stream",
     "text": [
      "<class 'pandas.core.frame.DataFrame'>\n",
      "Index: 833 entries, 0 to 836\n",
      "Data columns (total 12 columns):\n",
      " #   Column                    Non-Null Count  Dtype  \n",
      "---  ------                    --------------  -----  \n",
      " 0   Unnamed: 0.2              833 non-null    int64  \n",
      " 1   Unnamed: 0.1              833 non-null    int64  \n",
      " 2   Unnamed: 0                833 non-null    int64  \n",
      " 3   Pregnancies               833 non-null    float64\n",
      " 4   Glucose                   833 non-null    float64\n",
      " 5   BloodPressure             833 non-null    int64  \n",
      " 6   SkinThickness             833 non-null    int64  \n",
      " 7   Insulin                   833 non-null    int64  \n",
      " 8   BMI                       833 non-null    float64\n",
      " 9   DiabetesPedigreeFunction  833 non-null    float64\n",
      " 10  Age                       833 non-null    float64\n",
      " 11  Outcome                   833 non-null    object \n",
      "dtypes: float64(5), int64(6), object(1)\n",
      "memory usage: 84.6+ KB\n"
     ]
    }
   ],
   "source": [
    "diabetes_df.info()"
   ]
  },
  {
   "cell_type": "code",
   "execution_count": null,
   "id": "095b2ccf-f671-49f1-8ce4-93dcb3cb2edf",
   "metadata": {},
   "outputs": [],
   "source": []
  }
 ],
 "metadata": {
  "kernelspec": {
   "display_name": "Python 3 (ipykernel)",
   "language": "python",
   "name": "python3"
  },
  "language_info": {
   "codemirror_mode": {
    "name": "ipython",
    "version": 3
   },
   "file_extension": ".py",
   "mimetype": "text/x-python",
   "name": "python",
   "nbconvert_exporter": "python",
   "pygments_lexer": "ipython3",
   "version": "3.12.4"
  }
 },
 "nbformat": 4,
 "nbformat_minor": 5
}
